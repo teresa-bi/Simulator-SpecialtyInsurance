{
 "cells": [
  {
   "cell_type": "markdown",
   "id": "d2f57ef3",
   "metadata": {},
   "source": [
    "# Example of using SpecialtyInsurance Simulator\n"
   ]
  },
  {
   "cell_type": "code",
   "execution_count": 1,
   "id": "594d77f7",
   "metadata": {},
   "outputs": [],
   "source": [
    "### Set Simulation Parameters\n",
    "import os\n",
    "from logger.arguments import get_arguments\n",
    "\n",
    "# Read arguments from logger.arguments\n",
    "sim_args, manager_args, broker_args, syndicate_args, reinsurancefirm_args, shareholder_args, risk_args = get_arguments()\n",
    "\n",
    "# Reset arguments\n",
    "sim_args[\"max_time\"] = 300   # Simulation time span unit day\n",
    "manager_args[\"lead_top_k\"] = 2   # Number of syndicates competing for the lead quote\n",
    "manager_args[\"follow_top_k\"] = 1   # Number of syndicates following the lead strategy\n",
    "broker_args[\"num_brokers\"] = 1   # Number of brokers in the insurance market\n",
    "syndicate_args[\"num_syndicates\"] = 3   # Number of syndicates in the insurance market\n",
    "syndicate_args[\"lead_line_size\"] = 0.90  # The percentage of risk covered by lead syndicate\n",
    "syndicate_args[\"follow_line_size\"] = 0.10  # The percentage of risk covered by follow syndicate\n",
    "shareholder_args[\"num_shareholders\"] = 1   # Number of shareholders in the insurance market\n",
    "risk_args[\"num_risks\"] = 1  # Number of risk categories\n",
    "risk_args[\"num_categories\"] = 4  # Number of risk categories\n",
    "\n",
    "# No reinsurance mechanism included in this stage\n",
    "with_reinsurance = False   \n",
    "\n",
    "# Load one risk model to all syndicates\n",
    "num_risk_models = 1   "
   ]
  },
  {
   "cell_type": "code",
   "execution_count": 2,
   "id": "7ba112a4",
   "metadata": {},
   "outputs": [
    {
     "name": "stdout",
     "output_type": "stream",
     "text": [
      "[{'risk_id': 0, 'risk_start_time': 169, 'risk_factor': 0.5141633664737083, 'risk_category': 0, 'risk_value': 1000.0}]\n"
     ]
    }
   ],
   "source": [
    "# Generate Catastrophes\n",
    "from environment.risk_generator import RiskGenerator\n",
    "\n",
    "# Create catastrophe list and catastrophe configurations\n",
    "catastrophes, risk_model_configs = RiskGenerator(num_risk_models, sim_args, risk_args).generate_risks()\n",
    "print(catastrophes)"
   ]
  },
  {
   "cell_type": "code",
   "execution_count": 3,
   "id": "50f7424b",
   "metadata": {},
   "outputs": [],
   "source": [
    "# Generate Insurance Market\n",
    "from environment.market_generator import MarketGenerator\n",
    "\n",
    "# Create lists of brokers, syndicates, reinsurancefirms, and shareholders\n",
    "brokers, syndicates, reinsurancefirms, shareholders = MarketGenerator(with_reinsurance, \n",
    "                                                                      num_risk_models, \n",
    "                                                                      sim_args, \n",
    "                                                                      broker_args, \n",
    "                                                                      syndicate_args, \n",
    "                                                                      reinsurancefirm_args, \n",
    "                                                                      shareholder_args, \n",
    "                                                                      risk_model_configs).generate_agents()"
   ]
  },
  {
   "cell_type": "code",
   "execution_count": 4,
   "id": "72f98b84",
   "metadata": {},
   "outputs": [
    {
     "name": "stdout",
     "output_type": "stream",
     "text": [
      "[{'risk_id': 0, 'broker_id': 0, 'risk_start_time': 0, 'risk_end_time': 360, 'risk_factor': 0.5, 'risk_category': 4, 'risk_value': 1000.0}]\n"
     ]
    }
   ],
   "source": [
    "# Input risk from broker\n",
    "\n",
    "# Risk brought by broker: time to the market and number of risks\n",
    "time = 0\n",
    "num_risk = 1\n",
    "\n",
    "for i in range(len(brokers)):\n",
    "    risks = brokers[i].generate_risks(time, num_risk)\n",
    "    print(risks)"
   ]
  },
  {
   "cell_type": "code",
   "execution_count": 5,
   "id": "e4cb6bc5",
   "metadata": {},
   "outputs": [
    {
     "name": "stderr",
     "output_type": "stream",
     "text": [
      "/opt/homebrew/lib/python3.8/site-packages/ray/rllib/algorithms/algorithm.py:483: RayDeprecationWarning: This API is deprecated and may be removed in future Ray releases. You could suppress this warning by setting env variable PYTHONWARNINGS=\"ignore::DeprecationWarning\"\n",
      "`UnifiedLogger` will be removed in Ray 2.7.\n",
      "  return UnifiedLogger(config, logdir, loggers=None)\n",
      "/opt/homebrew/lib/python3.8/site-packages/ray/tune/logger/unified.py:53: RayDeprecationWarning: This API is deprecated and may be removed in future Ray releases. You could suppress this warning by setting env variable PYTHONWARNINGS=\"ignore::DeprecationWarning\"\n",
      "The `JsonLogger interface is deprecated in favor of the `ray.tune.json.JsonLoggerCallback` interface and will be removed in Ray 2.7.\n",
      "  self._loggers.append(cls(self.config, self.logdir, self.trial))\n",
      "/opt/homebrew/lib/python3.8/site-packages/ray/tune/logger/unified.py:53: RayDeprecationWarning: This API is deprecated and may be removed in future Ray releases. You could suppress this warning by setting env variable PYTHONWARNINGS=\"ignore::DeprecationWarning\"\n",
      "The `CSVLogger interface is deprecated in favor of the `ray.tune.csv.CSVLoggerCallback` interface and will be removed in Ray 2.7.\n",
      "  self._loggers.append(cls(self.config, self.logdir, self.trial))\n",
      "/opt/homebrew/lib/python3.8/site-packages/ray/tune/logger/unified.py:53: RayDeprecationWarning: This API is deprecated and may be removed in future Ray releases. You could suppress this warning by setting env variable PYTHONWARNINGS=\"ignore::DeprecationWarning\"\n",
      "The `TBXLogger interface is deprecated in favor of the `ray.tune.tensorboardx.TBXLoggerCallback` interface and will be removed in Ray 2.7.\n",
      "  self._loggers.append(cls(self.config, self.logdir, self.trial))\n",
      "2024-02-26 15:45:05,616\tINFO worker.py:1724 -- Started a local Ray instance.\n",
      "2024-02-26 15:45:07,984\tERROR actor_manager.py:506 -- Ray error, taking actor 1 out of service. The actor died because of an error raised in its creation task, \u001b[36mray::RolloutWorker.__init__()\u001b[39m (pid=6050, ip=127.0.0.1, actor_id=ad5c3f120a6da86c80ac3e9301000000, repr=<ray.rllib.evaluation.rollout_worker.RolloutWorker object at 0x144cd1370>)\n",
      "  File \"/opt/homebrew/lib/python3.8/site-packages/ray/rllib/evaluation/rollout_worker.py\", line 407, in __init__\n",
      "    self.env = env_creator(copy.deepcopy(self.env_context))\n",
      "  File \"/Users/yubi/Documents/KCLFirstYear/Simulator-SpecialtyInsurance/manager/ai_model/runner.py\", line 35, in env_creator\n",
      "    return SpecialtyInsuranceMarketEnv(**env_config)\n",
      "  File \"/Users/yubi/Documents/KCLFirstYear/Simulator-SpecialtyInsurance/environment/environment.py\", line 72, in __init__\n",
      "    self.reset()\n",
      "  File \"/Users/yubi/Documents/KCLFirstYear/Simulator-SpecialtyInsurance/environment/environment.py\", line 98, in reset\n",
      "    self.mm.evolve(self.dt)\n",
      "  File \"/Users/yubi/Documents/KCLFirstYear/Simulator-SpecialtyInsurance/manager/market_manager.py\", line 211, in evolve\n",
      "    self.market = self.event_handler.forward(self.market, step_time)\n",
      "  File \"/Users/yubi/Documents/KCLFirstYear/Simulator-SpecialtyInsurance/manager/event_handler.py\", line 200, in forward\n",
      "    market = event.run(market, step_time=step_time)\n",
      "TypeError: run() got an unexpected keyword argument 'step_time'\n",
      "2024-02-26 15:45:07,985\tERROR actor_manager.py:506 -- Ray error, taking actor 2 out of service. The actor died because of an error raised in its creation task, \u001b[36mray::RolloutWorker.__init__()\u001b[39m (pid=6051, ip=127.0.0.1, actor_id=71ee791f9d7c1bf6447ac02b01000000, repr=<ray.rllib.evaluation.rollout_worker.RolloutWorker object at 0x14e8fd2e0>)\n",
      "  File \"/opt/homebrew/lib/python3.8/site-packages/ray/rllib/evaluation/rollout_worker.py\", line 407, in __init__\n",
      "    self.env = env_creator(copy.deepcopy(self.env_context))\n",
      "  File \"/Users/yubi/Documents/KCLFirstYear/Simulator-SpecialtyInsurance/manager/ai_model/runner.py\", line 35, in env_creator\n",
      "    return SpecialtyInsuranceMarketEnv(**env_config)\n",
      "  File \"/Users/yubi/Documents/KCLFirstYear/Simulator-SpecialtyInsurance/environment/environment.py\", line 72, in __init__\n",
      "    self.reset()\n",
      "  File \"/Users/yubi/Documents/KCLFirstYear/Simulator-SpecialtyInsurance/environment/environment.py\", line 98, in reset\n",
      "    self.mm.evolve(self.dt)\n",
      "  File \"/Users/yubi/Documents/KCLFirstYear/Simulator-SpecialtyInsurance/manager/market_manager.py\", line 211, in evolve\n",
      "    self.market = self.event_handler.forward(self.market, step_time)\n",
      "  File \"/Users/yubi/Documents/KCLFirstYear/Simulator-SpecialtyInsurance/manager/event_handler.py\", line 200, in forward\n",
      "    market = event.run(market, step_time=step_time)\n",
      "TypeError: run() got an unexpected keyword argument 'step_time'\n",
      "\u001b[36m(RolloutWorker pid=6051)\u001b[0m Exception raised in creation task: The actor died because of an error raised in its creation task, \u001b[36mray::RolloutWorker.__init__()\u001b[39m (pid=6051, ip=127.0.0.1, actor_id=71ee791f9d7c1bf6447ac02b01000000, repr=<ray.rllib.evaluation.rollout_worker.RolloutWorker object at 0x14e8fd2e0>)\n",
      "\u001b[36m(RolloutWorker pid=6051)\u001b[0m   File \"/opt/homebrew/lib/python3.8/site-packages/ray/rllib/evaluation/rollout_worker.py\", line 407, in __init__\n",
      "\u001b[36m(RolloutWorker pid=6051)\u001b[0m     self.env = env_creator(copy.deepcopy(self.env_context))\n",
      "\u001b[36m(RolloutWorker pid=6051)\u001b[0m   File \"/Users/yubi/Documents/KCLFirstYear/Simulator-SpecialtyInsurance/manager/ai_model/runner.py\", line 35, in env_creator\n",
      "\u001b[36m(RolloutWorker pid=6051)\u001b[0m     return SpecialtyInsuranceMarketEnv(**env_config)\n",
      "\u001b[36m(RolloutWorker pid=6051)\u001b[0m   File \"/Users/yubi/Documents/KCLFirstYear/Simulator-SpecialtyInsurance/environment/environment.py\", line 72, in __init__\n",
      "\u001b[36m(RolloutWorker pid=6051)\u001b[0m     self.reset()\n",
      "\u001b[36m(RolloutWorker pid=6051)\u001b[0m   File \"/Users/yubi/Documents/KCLFirstYear/Simulator-SpecialtyInsurance/environment/environment.py\", line 98, in reset\n",
      "\u001b[36m(RolloutWorker pid=6051)\u001b[0m     self.mm.evolve(self.dt)\n",
      "\u001b[36m(RolloutWorker pid=6051)\u001b[0m   File \"/Users/yubi/Documents/KCLFirstYear/Simulator-SpecialtyInsurance/manager/market_manager.py\", line 211, in evolve\n",
      "\u001b[36m(RolloutWorker pid=6051)\u001b[0m     self.market = self.event_handler.forward(self.market, step_time)\n",
      "\u001b[36m(RolloutWorker pid=6051)\u001b[0m   File \"/Users/yubi/Documents/KCLFirstYear/Simulator-SpecialtyInsurance/manager/event_handler.py\", line 200, in forward\n",
      "\u001b[36m(RolloutWorker pid=6051)\u001b[0m     market = event.run(market, step_time=step_time)\n",
      "\u001b[36m(RolloutWorker pid=6051)\u001b[0m TypeError: run() got an unexpected keyword argument 'step_time'\n"
     ]
    },
    {
     "ename": "TypeError",
     "evalue": "run() got an unexpected keyword argument 'step_time'",
     "output_type": "error",
     "traceback": [
      "\u001b[0;31m---------------------------------------------------------------------------\u001b[0m",
      "\u001b[0;31mRayActorError\u001b[0m                             Traceback (most recent call last)",
      "File \u001b[0;32m/opt/homebrew/lib/python3.8/site-packages/ray/rllib/evaluation/worker_set.py:159\u001b[0m, in \u001b[0;36mWorkerSet.__init__\u001b[0;34m(self, env_creator, validate_env, default_policy_class, config, num_workers, local_worker, logdir, _setup)\u001b[0m\n\u001b[1;32m    158\u001b[0m \u001b[38;5;28;01mtry\u001b[39;00m:\n\u001b[0;32m--> 159\u001b[0m     \u001b[38;5;28;43mself\u001b[39;49m\u001b[38;5;241;43m.\u001b[39;49m\u001b[43m_setup\u001b[49m\u001b[43m(\u001b[49m\n\u001b[1;32m    160\u001b[0m \u001b[43m        \u001b[49m\u001b[43mvalidate_env\u001b[49m\u001b[38;5;241;43m=\u001b[39;49m\u001b[43mvalidate_env\u001b[49m\u001b[43m,\u001b[49m\n\u001b[1;32m    161\u001b[0m \u001b[43m        \u001b[49m\u001b[43mconfig\u001b[49m\u001b[38;5;241;43m=\u001b[39;49m\u001b[43mconfig\u001b[49m\u001b[43m,\u001b[49m\n\u001b[1;32m    162\u001b[0m \u001b[43m        \u001b[49m\u001b[43mnum_workers\u001b[49m\u001b[38;5;241;43m=\u001b[39;49m\u001b[43mnum_workers\u001b[49m\u001b[43m,\u001b[49m\n\u001b[1;32m    163\u001b[0m \u001b[43m        \u001b[49m\u001b[43mlocal_worker\u001b[49m\u001b[38;5;241;43m=\u001b[39;49m\u001b[43mlocal_worker\u001b[49m\u001b[43m,\u001b[49m\n\u001b[1;32m    164\u001b[0m \u001b[43m    \u001b[49m\u001b[43m)\u001b[49m\n\u001b[1;32m    165\u001b[0m \u001b[38;5;66;03m# WorkerSet creation possibly fails, if some (remote) workers cannot\u001b[39;00m\n\u001b[1;32m    166\u001b[0m \u001b[38;5;66;03m# be initialized properly (due to some errors in the EnvRunners's\u001b[39;00m\n\u001b[1;32m    167\u001b[0m \u001b[38;5;66;03m# constructor).\u001b[39;00m\n",
      "File \u001b[0;32m/opt/homebrew/lib/python3.8/site-packages/ray/rllib/evaluation/worker_set.py:229\u001b[0m, in \u001b[0;36mWorkerSet._setup\u001b[0;34m(self, validate_env, config, num_workers, local_worker)\u001b[0m\n\u001b[1;32m    228\u001b[0m \u001b[38;5;66;03m# Create a number of @ray.remote workers.\u001b[39;00m\n\u001b[0;32m--> 229\u001b[0m \u001b[38;5;28;43mself\u001b[39;49m\u001b[38;5;241;43m.\u001b[39;49m\u001b[43madd_workers\u001b[49m\u001b[43m(\u001b[49m\n\u001b[1;32m    230\u001b[0m \u001b[43m    \u001b[49m\u001b[43mnum_workers\u001b[49m\u001b[43m,\u001b[49m\n\u001b[1;32m    231\u001b[0m \u001b[43m    \u001b[49m\u001b[43mvalidate\u001b[49m\u001b[38;5;241;43m=\u001b[39;49m\u001b[43mconfig\u001b[49m\u001b[38;5;241;43m.\u001b[39;49m\u001b[43mvalidate_workers_after_construction\u001b[49m\u001b[43m,\u001b[49m\n\u001b[1;32m    232\u001b[0m \u001b[43m\u001b[49m\u001b[43m)\u001b[49m\n\u001b[1;32m    234\u001b[0m \u001b[38;5;66;03m# If num_workers > 0 and we don't have an env on the local worker,\u001b[39;00m\n\u001b[1;32m    235\u001b[0m \u001b[38;5;66;03m# get the observation- and action spaces for each policy from\u001b[39;00m\n\u001b[1;32m    236\u001b[0m \u001b[38;5;66;03m# the first remote worker (which does have an env).\u001b[39;00m\n",
      "File \u001b[0;32m/opt/homebrew/lib/python3.8/site-packages/ray/rllib/evaluation/worker_set.py:616\u001b[0m, in \u001b[0;36mWorkerSet.add_workers\u001b[0;34m(self, num_workers, validate)\u001b[0m\n\u001b[1;32m    615\u001b[0m \u001b[38;5;28;01mif\u001b[39;00m \u001b[38;5;129;01mnot\u001b[39;00m result\u001b[38;5;241m.\u001b[39mok:\n\u001b[0;32m--> 616\u001b[0m     \u001b[38;5;28;01mraise\u001b[39;00m result\u001b[38;5;241m.\u001b[39mget()\n",
      "File \u001b[0;32m/opt/homebrew/lib/python3.8/site-packages/ray/rllib/utils/actor_manager.py:487\u001b[0m, in \u001b[0;36mFaultTolerantActorManager.__fetch_result\u001b[0;34m(self, remote_actor_ids, remote_calls, tags, timeout_seconds, return_obj_refs, mark_healthy)\u001b[0m\n\u001b[1;32m    486\u001b[0m \u001b[38;5;28;01mtry\u001b[39;00m:\n\u001b[0;32m--> 487\u001b[0m     result \u001b[38;5;241m=\u001b[39m \u001b[43mray\u001b[49m\u001b[38;5;241;43m.\u001b[39;49m\u001b[43mget\u001b[49m\u001b[43m(\u001b[49m\u001b[43mr\u001b[49m\u001b[43m)\u001b[49m\n\u001b[1;32m    488\u001b[0m     remote_results\u001b[38;5;241m.\u001b[39madd_result(actor_id, ResultOrError(result\u001b[38;5;241m=\u001b[39mresult), tag)\n",
      "File \u001b[0;32m/opt/homebrew/lib/python3.8/site-packages/ray/_private/auto_init_hook.py:22\u001b[0m, in \u001b[0;36mwrap_auto_init.<locals>.auto_init_wrapper\u001b[0;34m(*args, **kwargs)\u001b[0m\n\u001b[1;32m     21\u001b[0m auto_init_ray()\n\u001b[0;32m---> 22\u001b[0m \u001b[38;5;28;01mreturn\u001b[39;00m \u001b[43mfn\u001b[49m\u001b[43m(\u001b[49m\u001b[38;5;241;43m*\u001b[39;49m\u001b[43margs\u001b[49m\u001b[43m,\u001b[49m\u001b[43m \u001b[49m\u001b[38;5;241;43m*\u001b[39;49m\u001b[38;5;241;43m*\u001b[39;49m\u001b[43mkwargs\u001b[49m\u001b[43m)\u001b[49m\n",
      "File \u001b[0;32m/opt/homebrew/lib/python3.8/site-packages/ray/_private/client_mode_hook.py:103\u001b[0m, in \u001b[0;36mclient_mode_hook.<locals>.wrapper\u001b[0;34m(*args, **kwargs)\u001b[0m\n\u001b[1;32m    102\u001b[0m         \u001b[38;5;28;01mreturn\u001b[39;00m \u001b[38;5;28mgetattr\u001b[39m(ray, func\u001b[38;5;241m.\u001b[39m\u001b[38;5;18m__name__\u001b[39m)(\u001b[38;5;241m*\u001b[39margs, \u001b[38;5;241m*\u001b[39m\u001b[38;5;241m*\u001b[39mkwargs)\n\u001b[0;32m--> 103\u001b[0m \u001b[38;5;28;01mreturn\u001b[39;00m \u001b[43mfunc\u001b[49m\u001b[43m(\u001b[49m\u001b[38;5;241;43m*\u001b[39;49m\u001b[43margs\u001b[49m\u001b[43m,\u001b[49m\u001b[43m \u001b[49m\u001b[38;5;241;43m*\u001b[39;49m\u001b[38;5;241;43m*\u001b[39;49m\u001b[43mkwargs\u001b[49m\u001b[43m)\u001b[49m\n",
      "File \u001b[0;32m/opt/homebrew/lib/python3.8/site-packages/ray/_private/worker.py:2626\u001b[0m, in \u001b[0;36mget\u001b[0;34m(object_refs, timeout)\u001b[0m\n\u001b[1;32m   2625\u001b[0m         \u001b[38;5;28;01melse\u001b[39;00m:\n\u001b[0;32m-> 2626\u001b[0m             \u001b[38;5;28;01mraise\u001b[39;00m value\n\u001b[1;32m   2628\u001b[0m \u001b[38;5;28;01mif\u001b[39;00m is_individual_id:\n",
      "\u001b[0;31mRayActorError\u001b[0m: The actor died because of an error raised in its creation task, \u001b[36mray::RolloutWorker.__init__()\u001b[39m (pid=6050, ip=127.0.0.1, actor_id=ad5c3f120a6da86c80ac3e9301000000, repr=<ray.rllib.evaluation.rollout_worker.RolloutWorker object at 0x144cd1370>)\n  File \"/opt/homebrew/lib/python3.8/site-packages/ray/rllib/evaluation/rollout_worker.py\", line 407, in __init__\n    self.env = env_creator(copy.deepcopy(self.env_context))\n  File \"/Users/yubi/Documents/KCLFirstYear/Simulator-SpecialtyInsurance/manager/ai_model/runner.py\", line 35, in env_creator\n    return SpecialtyInsuranceMarketEnv(**env_config)\n  File \"/Users/yubi/Documents/KCLFirstYear/Simulator-SpecialtyInsurance/environment/environment.py\", line 72, in __init__\n    self.reset()\n  File \"/Users/yubi/Documents/KCLFirstYear/Simulator-SpecialtyInsurance/environment/environment.py\", line 98, in reset\n    self.mm.evolve(self.dt)\n  File \"/Users/yubi/Documents/KCLFirstYear/Simulator-SpecialtyInsurance/manager/market_manager.py\", line 211, in evolve\n    self.market = self.event_handler.forward(self.market, step_time)\n  File \"/Users/yubi/Documents/KCLFirstYear/Simulator-SpecialtyInsurance/manager/event_handler.py\", line 200, in forward\n    market = event.run(market, step_time=step_time)\nTypeError: run() got an unexpected keyword argument 'step_time'",
      "\nDuring handling of the above exception, another exception occurred:\n",
      "\u001b[0;31mTypeError\u001b[0m                                 Traceback (most recent call last)",
      "Cell \u001b[0;32mIn[5], line 10\u001b[0m\n\u001b[1;32m      8\u001b[0m \u001b[38;5;28;01melif\u001b[39;00m model \u001b[38;5;241m==\u001b[39m \u001b[38;5;241m1\u001b[39m:\n\u001b[1;32m      9\u001b[0m     runner \u001b[38;5;241m=\u001b[39m GameRunner(sim_args, manager_args, brokers, syndicates, reinsurancefirms, shareholders, catastrophes, risk_model_configs, with_reinsurance, num_risk_models)\n\u001b[0;32m---> 10\u001b[0m \u001b[43mrunner\u001b[49m\u001b[38;5;241;43m.\u001b[39;49m\u001b[43mrun\u001b[49m\u001b[43m(\u001b[49m\u001b[43m)\u001b[49m\n",
      "File \u001b[0;32m~/Documents/KCLFirstYear/Simulator-SpecialtyInsurance/manager/ai_model/runner.py:163\u001b[0m, in \u001b[0;36mAIRunner.run\u001b[0;34m(self)\u001b[0m\n\u001b[1;32m    151\u001b[0m num_training \u001b[38;5;241m=\u001b[39m \u001b[38;5;241m10\u001b[39m\n\u001b[1;32m    153\u001b[0m insurance_args \u001b[38;5;241m=\u001b[39m {\u001b[38;5;124m\"\u001b[39m\u001b[38;5;124msim_args\u001b[39m\u001b[38;5;124m\"\u001b[39m: \u001b[38;5;28mself\u001b[39m\u001b[38;5;241m.\u001b[39msim_args,\n\u001b[1;32m    154\u001b[0m                 \u001b[38;5;124m\"\u001b[39m\u001b[38;5;124mmanager_args\u001b[39m\u001b[38;5;124m\"\u001b[39m: \u001b[38;5;28mself\u001b[39m\u001b[38;5;241m.\u001b[39mmanager_args,\n\u001b[1;32m    155\u001b[0m                 \u001b[38;5;124m\"\u001b[39m\u001b[38;5;124mbrokers\u001b[39m\u001b[38;5;124m\"\u001b[39m: \u001b[38;5;28mself\u001b[39m\u001b[38;5;241m.\u001b[39mbrokers,\n\u001b[0;32m   (...)\u001b[0m\n\u001b[1;32m    161\u001b[0m                 \u001b[38;5;124m\"\u001b[39m\u001b[38;5;124mwith_reinsurance\u001b[39m\u001b[38;5;124m\"\u001b[39m: \u001b[38;5;28mself\u001b[39m\u001b[38;5;241m.\u001b[39mwith_reinsurance,\n\u001b[1;32m    162\u001b[0m                 \u001b[38;5;124m\"\u001b[39m\u001b[38;5;124mnum_risk_models\u001b[39m\u001b[38;5;124m\"\u001b[39m: \u001b[38;5;28mself\u001b[39m\u001b[38;5;241m.\u001b[39mnum_risk_models}\n\u001b[0;32m--> 163\u001b[0m \u001b[38;5;28;43mself\u001b[39;49m\u001b[38;5;241;43m.\u001b[39;49m\u001b[43mppo_trainer_creator\u001b[49m\u001b[43m(\u001b[49m\u001b[43minsurance_args\u001b[49m\u001b[43m)\u001b[49m\n\u001b[1;32m    165\u001b[0m \u001b[38;5;28;01mfor\u001b[39;00m n \u001b[38;5;129;01min\u001b[39;00m \u001b[38;5;28mrange\u001b[39m(num_training):\n\u001b[1;32m    166\u001b[0m     \u001b[38;5;28;01mif\u001b[39;00m n \u001b[38;5;241m==\u001b[39m \u001b[38;5;241m0\u001b[39m:\n\u001b[1;32m    167\u001b[0m \n\u001b[1;32m    168\u001b[0m         \u001b[38;5;66;03m# Return the trained trainer\u001b[39;00m\n",
      "File \u001b[0;32m~/Documents/KCLFirstYear/Simulator-SpecialtyInsurance/manager/ai_model/runner.py:50\u001b[0m, in \u001b[0;36mAIRunner.ppo_trainer_creator\u001b[0;34m(self, insurance_args)\u001b[0m\n\u001b[1;32m     38\u001b[0m \u001b[38;5;250m\u001b[39m\u001b[38;5;124;03m\"\"\"\u001b[39;00m\n\u001b[1;32m     39\u001b[0m \u001b[38;5;124;03mChoose PPO Algorithm for Training\u001b[39;00m\n\u001b[1;32m     40\u001b[0m \u001b[38;5;124;03m\"\"\"\u001b[39;00m\n\u001b[1;32m     42\u001b[0m config\u001b[38;5;241m=\u001b[39m{\u001b[38;5;124m\"\u001b[39m\u001b[38;5;124mlog_level\u001b[39m\u001b[38;5;124m\"\u001b[39m: \u001b[38;5;124m\"\u001b[39m\u001b[38;5;124mERROR\u001b[39m\u001b[38;5;124m\"\u001b[39m,\n\u001b[1;32m     43\u001b[0m     \u001b[38;5;124m\"\u001b[39m\u001b[38;5;124menv\u001b[39m\u001b[38;5;124m\"\u001b[39m: \u001b[38;5;124m\"\u001b[39m\u001b[38;5;124mSpecialtyInsuranceMarket-validation\u001b[39m\u001b[38;5;124m\"\u001b[39m,\n\u001b[1;32m     44\u001b[0m     \u001b[38;5;124m\"\u001b[39m\u001b[38;5;124mnum_workers\u001b[39m\u001b[38;5;124m\"\u001b[39m: \u001b[38;5;241m2\u001b[39m,\n\u001b[0;32m   (...)\u001b[0m\n\u001b[1;32m     48\u001b[0m     \u001b[38;5;124m\"\u001b[39m\u001b[38;5;124mnum_gpus\u001b[39m\u001b[38;5;124m\"\u001b[39m: \u001b[38;5;241m0\u001b[39m,\n\u001b[1;32m     49\u001b[0m     \u001b[38;5;124m\"\u001b[39m\u001b[38;5;124menv_config\u001b[39m\u001b[38;5;124m\"\u001b[39m: insurance_args}\n\u001b[0;32m---> 50\u001b[0m \u001b[38;5;28mself\u001b[39m\u001b[38;5;241m.\u001b[39mtrainer \u001b[38;5;241m=\u001b[39m \u001b[43mPPO\u001b[49m\u001b[43m(\u001b[49m\u001b[43mconfig\u001b[49m\u001b[38;5;241;43m=\u001b[39;49m\u001b[43mconfig\u001b[49m\u001b[43m)\u001b[49m\n",
      "File \u001b[0;32m/opt/homebrew/lib/python3.8/site-packages/ray/rllib/algorithms/algorithm.py:516\u001b[0m, in \u001b[0;36mAlgorithm.__init__\u001b[0;34m(self, config, env, logger_creator, **kwargs)\u001b[0m\n\u001b[1;32m    498\u001b[0m \u001b[38;5;66;03m# Initialize common evaluation_metrics to nan, before they become\u001b[39;00m\n\u001b[1;32m    499\u001b[0m \u001b[38;5;66;03m# available. We want to make sure the metrics are always present\u001b[39;00m\n\u001b[1;32m    500\u001b[0m \u001b[38;5;66;03m# (although their values may be nan), so that Tune does not complain\u001b[39;00m\n\u001b[1;32m    501\u001b[0m \u001b[38;5;66;03m# when we use these as stopping criteria.\u001b[39;00m\n\u001b[1;32m    502\u001b[0m \u001b[38;5;28mself\u001b[39m\u001b[38;5;241m.\u001b[39mevaluation_metrics \u001b[38;5;241m=\u001b[39m {\n\u001b[1;32m    503\u001b[0m     \u001b[38;5;66;03m# TODO: Don't dump sampler results into top-level.\u001b[39;00m\n\u001b[1;32m    504\u001b[0m     \u001b[38;5;124m\"\u001b[39m\u001b[38;5;124mevaluation\u001b[39m\u001b[38;5;124m\"\u001b[39m: {\n\u001b[0;32m   (...)\u001b[0m\n\u001b[1;32m    513\u001b[0m     },\n\u001b[1;32m    514\u001b[0m }\n\u001b[0;32m--> 516\u001b[0m \u001b[38;5;28;43msuper\u001b[39;49m\u001b[43m(\u001b[49m\u001b[43m)\u001b[49m\u001b[38;5;241;43m.\u001b[39;49m\u001b[38;5;21;43m__init__\u001b[39;49m\u001b[43m(\u001b[49m\n\u001b[1;32m    517\u001b[0m \u001b[43m    \u001b[49m\u001b[43mconfig\u001b[49m\u001b[38;5;241;43m=\u001b[39;49m\u001b[43mconfig\u001b[49m\u001b[43m,\u001b[49m\n\u001b[1;32m    518\u001b[0m \u001b[43m    \u001b[49m\u001b[43mlogger_creator\u001b[49m\u001b[38;5;241;43m=\u001b[39;49m\u001b[43mlogger_creator\u001b[49m\u001b[43m,\u001b[49m\n\u001b[1;32m    519\u001b[0m \u001b[43m    \u001b[49m\u001b[38;5;241;43m*\u001b[39;49m\u001b[38;5;241;43m*\u001b[39;49m\u001b[43mkwargs\u001b[49m\u001b[43m,\u001b[49m\n\u001b[1;32m    520\u001b[0m \u001b[43m\u001b[49m\u001b[43m)\u001b[49m\n\u001b[1;32m    522\u001b[0m \u001b[38;5;66;03m# Check, whether `training_iteration` is still a tune.Trainable property\u001b[39;00m\n\u001b[1;32m    523\u001b[0m \u001b[38;5;66;03m# and has not been overridden by the user in the attempt to implement the\u001b[39;00m\n\u001b[1;32m    524\u001b[0m \u001b[38;5;66;03m# algos logic (this should be done now inside `training_step`).\u001b[39;00m\n\u001b[1;32m    525\u001b[0m \u001b[38;5;28;01mtry\u001b[39;00m:\n",
      "File \u001b[0;32m/opt/homebrew/lib/python3.8/site-packages/ray/tune/trainable/trainable.py:161\u001b[0m, in \u001b[0;36mTrainable.__init__\u001b[0;34m(self, config, logger_creator, storage)\u001b[0m\n\u001b[1;32m    157\u001b[0m     logger\u001b[38;5;241m.\u001b[39mdebug(\u001b[38;5;124mf\u001b[39m\u001b[38;5;124m\"\u001b[39m\u001b[38;5;124mStorageContext on the TRAINABLE:\u001b[39m\u001b[38;5;130;01m\\n\u001b[39;00m\u001b[38;5;132;01m{\u001b[39;00mstorage\u001b[38;5;132;01m}\u001b[39;00m\u001b[38;5;124m\"\u001b[39m)\n\u001b[1;32m    159\u001b[0m \u001b[38;5;28mself\u001b[39m\u001b[38;5;241m.\u001b[39m_open_logfiles(stdout_file, stderr_file)\n\u001b[0;32m--> 161\u001b[0m \u001b[38;5;28;43mself\u001b[39;49m\u001b[38;5;241;43m.\u001b[39;49m\u001b[43msetup\u001b[49m\u001b[43m(\u001b[49m\u001b[43mcopy\u001b[49m\u001b[38;5;241;43m.\u001b[39;49m\u001b[43mdeepcopy\u001b[49m\u001b[43m(\u001b[49m\u001b[38;5;28;43mself\u001b[39;49m\u001b[38;5;241;43m.\u001b[39;49m\u001b[43mconfig\u001b[49m\u001b[43m)\u001b[49m\u001b[43m)\u001b[49m\n\u001b[1;32m    162\u001b[0m setup_time \u001b[38;5;241m=\u001b[39m time\u001b[38;5;241m.\u001b[39mtime() \u001b[38;5;241m-\u001b[39m \u001b[38;5;28mself\u001b[39m\u001b[38;5;241m.\u001b[39m_start_time\n\u001b[1;32m    163\u001b[0m \u001b[38;5;28;01mif\u001b[39;00m setup_time \u001b[38;5;241m>\u001b[39m SETUP_TIME_THRESHOLD:\n",
      "File \u001b[0;32m/opt/homebrew/lib/python3.8/site-packages/ray/rllib/algorithms/algorithm.py:638\u001b[0m, in \u001b[0;36mAlgorithm.setup\u001b[0;34m(self, config)\u001b[0m\n\u001b[1;32m    635\u001b[0m \u001b[38;5;66;03m# Only if user did not override `_init()`:\u001b[39;00m\n\u001b[1;32m    636\u001b[0m \u001b[38;5;28;01mif\u001b[39;00m _init \u001b[38;5;129;01mis\u001b[39;00m \u001b[38;5;28;01mFalse\u001b[39;00m:\n\u001b[1;32m    637\u001b[0m     \u001b[38;5;66;03m# Create a set of env runner actors via a WorkerSet.\u001b[39;00m\n\u001b[0;32m--> 638\u001b[0m     \u001b[38;5;28mself\u001b[39m\u001b[38;5;241m.\u001b[39mworkers \u001b[38;5;241m=\u001b[39m \u001b[43mWorkerSet\u001b[49m\u001b[43m(\u001b[49m\n\u001b[1;32m    639\u001b[0m \u001b[43m        \u001b[49m\u001b[43menv_creator\u001b[49m\u001b[38;5;241;43m=\u001b[39;49m\u001b[38;5;28;43mself\u001b[39;49m\u001b[38;5;241;43m.\u001b[39;49m\u001b[43menv_creator\u001b[49m\u001b[43m,\u001b[49m\n\u001b[1;32m    640\u001b[0m \u001b[43m        \u001b[49m\u001b[43mvalidate_env\u001b[49m\u001b[38;5;241;43m=\u001b[39;49m\u001b[38;5;28;43mself\u001b[39;49m\u001b[38;5;241;43m.\u001b[39;49m\u001b[43mvalidate_env\u001b[49m\u001b[43m,\u001b[49m\n\u001b[1;32m    641\u001b[0m \u001b[43m        \u001b[49m\u001b[43mdefault_policy_class\u001b[49m\u001b[38;5;241;43m=\u001b[39;49m\u001b[38;5;28;43mself\u001b[39;49m\u001b[38;5;241;43m.\u001b[39;49m\u001b[43mget_default_policy_class\u001b[49m\u001b[43m(\u001b[49m\u001b[38;5;28;43mself\u001b[39;49m\u001b[38;5;241;43m.\u001b[39;49m\u001b[43mconfig\u001b[49m\u001b[43m)\u001b[49m\u001b[43m,\u001b[49m\n\u001b[1;32m    642\u001b[0m \u001b[43m        \u001b[49m\u001b[43mconfig\u001b[49m\u001b[38;5;241;43m=\u001b[39;49m\u001b[38;5;28;43mself\u001b[39;49m\u001b[38;5;241;43m.\u001b[39;49m\u001b[43mconfig\u001b[49m\u001b[43m,\u001b[49m\n\u001b[1;32m    643\u001b[0m \u001b[43m        \u001b[49m\u001b[43mnum_workers\u001b[49m\u001b[38;5;241;43m=\u001b[39;49m\u001b[38;5;28;43mself\u001b[39;49m\u001b[38;5;241;43m.\u001b[39;49m\u001b[43mconfig\u001b[49m\u001b[38;5;241;43m.\u001b[39;49m\u001b[43mnum_rollout_workers\u001b[49m\u001b[43m,\u001b[49m\n\u001b[1;32m    644\u001b[0m \u001b[43m        \u001b[49m\u001b[43mlocal_worker\u001b[49m\u001b[38;5;241;43m=\u001b[39;49m\u001b[38;5;28;43;01mTrue\u001b[39;49;00m\u001b[43m,\u001b[49m\n\u001b[1;32m    645\u001b[0m \u001b[43m        \u001b[49m\u001b[43mlogdir\u001b[49m\u001b[38;5;241;43m=\u001b[39;49m\u001b[38;5;28;43mself\u001b[39;49m\u001b[38;5;241;43m.\u001b[39;49m\u001b[43mlogdir\u001b[49m\u001b[43m,\u001b[49m\n\u001b[1;32m    646\u001b[0m \u001b[43m    \u001b[49m\u001b[43m)\u001b[49m\n\u001b[1;32m    648\u001b[0m     \u001b[38;5;66;03m# TODO (avnishn): Remove the execution plan API by q1 2023\u001b[39;00m\n\u001b[1;32m    649\u001b[0m     \u001b[38;5;66;03m# Function defining one single training iteration's behavior.\u001b[39;00m\n\u001b[1;32m    650\u001b[0m     \u001b[38;5;28;01mif\u001b[39;00m \u001b[38;5;28mself\u001b[39m\u001b[38;5;241m.\u001b[39mconfig\u001b[38;5;241m.\u001b[39m_disable_execution_plan_api:\n\u001b[1;32m    651\u001b[0m         \u001b[38;5;66;03m# Ensure remote workers are initially in sync with the local worker.\u001b[39;00m\n",
      "File \u001b[0;32m/opt/homebrew/lib/python3.8/site-packages/ray/rllib/evaluation/worker_set.py:181\u001b[0m, in \u001b[0;36mWorkerSet.__init__\u001b[0;34m(self, env_creator, validate_env, default_policy_class, config, num_workers, local_worker, logdir, _setup)\u001b[0m\n\u001b[1;32m    168\u001b[0m \u001b[38;5;28;01mexcept\u001b[39;00m RayActorError \u001b[38;5;28;01mas\u001b[39;00m e:\n\u001b[1;32m    169\u001b[0m     \u001b[38;5;66;03m# In case of an actor (remote worker) init failure, the remote worker\u001b[39;00m\n\u001b[1;32m    170\u001b[0m     \u001b[38;5;66;03m# may still exist and will be accessible, however, e.g. calling\u001b[39;00m\n\u001b[1;32m    171\u001b[0m     \u001b[38;5;66;03m# its `sample.remote()` would result in strange \"property not found\"\u001b[39;00m\n\u001b[1;32m    172\u001b[0m     \u001b[38;5;66;03m# errors.\u001b[39;00m\n\u001b[1;32m    173\u001b[0m     \u001b[38;5;28;01mif\u001b[39;00m e\u001b[38;5;241m.\u001b[39mactor_init_failed:\n\u001b[1;32m    174\u001b[0m         \u001b[38;5;66;03m# Raise the original error here that the EnvRunners raised\u001b[39;00m\n\u001b[1;32m    175\u001b[0m         \u001b[38;5;66;03m# during its construction process. This is to enforce transparency\u001b[39;00m\n\u001b[0;32m   (...)\u001b[0m\n\u001b[1;32m    179\u001b[0m         \u001b[38;5;66;03m# - e.args[0].args[2]: The original Exception (e.g. a ValueError due\u001b[39;00m\n\u001b[1;32m    180\u001b[0m         \u001b[38;5;66;03m# to a config mismatch) thrown inside the actor.\u001b[39;00m\n\u001b[0;32m--> 181\u001b[0m         \u001b[38;5;28;01mraise\u001b[39;00m e\u001b[38;5;241m.\u001b[39margs[\u001b[38;5;241m0\u001b[39m]\u001b[38;5;241m.\u001b[39margs[\u001b[38;5;241m2\u001b[39m]\n\u001b[1;32m    182\u001b[0m     \u001b[38;5;66;03m# In any other case, raise the RayActorError as-is.\u001b[39;00m\n\u001b[1;32m    183\u001b[0m     \u001b[38;5;28;01melse\u001b[39;00m:\n\u001b[1;32m    184\u001b[0m         \u001b[38;5;28;01mraise\u001b[39;00m e\n",
      "\u001b[0;31mTypeError\u001b[0m: run() got an unexpected keyword argument 'step_time'"
     ]
    }
   ],
   "source": [
    "# Run the simulation\n",
    "from manager.ai_model.runner import AIRunner\n",
    "from manager.game_model.runner import GameRunner\n",
    "\n",
    "model = 0\n",
    "if model == 0: \n",
    "    runner = AIRunner(sim_args, manager_args, brokers, syndicates, reinsurancefirms, shareholders, catastrophes, risk_model_configs, with_reinsurance, num_risk_models)\n",
    "elif model == 1:\n",
    "    runner = GameRunner(sim_args, manager_args, brokers, syndicates, reinsurancefirms, shareholders, catastrophes, risk_model_configs, with_reinsurance, num_risk_models)\n",
    "runner.run()"
   ]
  },
  {
   "cell_type": "code",
   "execution_count": null,
   "id": "56fa2f90",
   "metadata": {},
   "outputs": [],
   "source": []
  }
 ],
 "metadata": {
  "kernelspec": {
   "display_name": "Python 3 (ipykernel)",
   "language": "python",
   "name": "python3"
  },
  "language_info": {
   "codemirror_mode": {
    "name": "ipython",
    "version": 3
   },
   "file_extension": ".py",
   "mimetype": "text/x-python",
   "name": "python",
   "nbconvert_exporter": "python",
   "pygments_lexer": "ipython3",
   "version": "3.8.18"
  }
 },
 "nbformat": 4,
 "nbformat_minor": 5
}
