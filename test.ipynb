{
 "cells": [
  {
   "cell_type": "markdown",
   "id": "74b8a492",
   "metadata": {},
   "source": [
    "# Example of using SpecialtyInsurance Simulator\n"
   ]
  },
  {
   "cell_type": "code",
   "execution_count": 2,
   "id": "076c8979",
   "metadata": {},
   "outputs": [],
   "source": [
    "### Set Simulation Parameters\n",
    "import os\n",
    "from logger.arguments import get_arguments\n",
    "\n",
    "# Read arguments from logger.arguments\n",
    "sim_args, manager_args, broker_args, syndicate_args, reinsurancefirm_args, shareholder_args, risk_args = get_arguments()\n",
    "\n",
    "# Reset arguments\n",
    "sim_args[\"max_time\"] = 300   # Simulation time span unit day\n",
    "manager_args[\"lead_top_k\"] = 2   # Number of syndicates competing for the lead quote\n",
    "manager_args[\"follow_top_k\"] = 1   # Number of syndicates following the lead strategy\n",
    "broker_args[\"num_brokers\"] = 1   # Number of brokers in the insurance market\n",
    "syndicate_args[\"num_syndicates\"] = 3   # Number of syndicates in the insurance market\n",
    "syndicate_args[\"lead_line_size\"] = 0.90  # The percentage of risk covered by lead syndicate\n",
    "syndicate_args[\"follow_line_size\"] = 0.10  # The percentage of risk covered by follow syndicate\n",
    "shareholder_args[\"num_shareholders\"] = 1   # Number of shareholders in the insurance market\n",
    "risk_args[\"num_risks\"] = 1  # Number of risk categories\n",
    "risk_args[\"num_categories\"] = 4  # Number of risk categories\n",
    "\n",
    "# No reinsurance mechanism included in this stage\n",
    "with_reinsurance = False   \n",
    "\n",
    "# Load one risk model to all syndicates\n",
    "num_risk_models = 1   "
   ]
  },
  {
   "cell_type": "code",
   "execution_count": 3,
   "id": "41b1a871",
   "metadata": {},
   "outputs": [
    {
     "name": "stdout",
     "output_type": "stream",
     "text": [
      "[{'risk_id': 0, 'risk_start_time': 145, 'risk_factor': 0.4621681676829919, 'risk_category': 1, 'risk_value': 1000.0}]\n"
     ]
    }
   ],
   "source": [
    "# Generate Catastrophes\n",
    "from environment.risk_generator import RiskGenerator\n",
    "\n",
    "# Create catastrophe list and catastrophe configurations\n",
    "catastrophes, risk_model_configs = RiskGenerator(num_risk_models, sim_args, risk_args).generate_risks()\n",
    "print(catastrophes)"
   ]
  },
  {
   "cell_type": "code",
   "execution_count": 4,
   "id": "56e70f1d",
   "metadata": {},
   "outputs": [],
   "source": [
    "# Generate Insurance Market\n",
    "from environment.market_generator import MarketGenerator\n",
    "\n",
    "# Create lists of brokers, syndicates, reinsurancefirms, and shareholders\n",
    "brokers, syndicates, reinsurancefirms, shareholders = MarketGenerator(with_reinsurance, \n",
    "                                                                      num_risk_models, \n",
    "                                                                      sim_args, \n",
    "                                                                      broker_args, \n",
    "                                                                      syndicate_args, \n",
    "                                                                      reinsurancefirm_args, \n",
    "                                                                      shareholder_args, \n",
    "                                                                      risk_model_configs).generate_agents()"
   ]
  },
  {
   "cell_type": "code",
   "execution_count": 5,
   "id": "b87dc732",
   "metadata": {},
   "outputs": [
    {
     "name": "stdout",
     "output_type": "stream",
     "text": [
      "[{'risk_id': 0, 'broker_id': 0, 'risk_start_time': 0, 'risk_end_time': 360, 'risk_factor': 0.5, 'risk_category': 4, 'risk_value': 1000.0}]\n"
     ]
    }
   ],
   "source": [
    "# Input risk from broker\n",
    "\n",
    "# Risk brought by broker: time to the market and number of risks\n",
    "time = 0\n",
    "num_risk = 1\n",
    "\n",
    "for i in range(len(brokers)):\n",
    "    risks = brokers[i].generate_risks(time, num_risk)\n",
    "    print(risks)"
   ]
  },
  {
   "cell_type": "code",
   "execution_count": 6,
   "id": "7e09b9b1",
   "metadata": {},
   "outputs": [
    {
     "ename": "SyntaxError",
     "evalue": "invalid syntax (market_manager.py, line 345)",
     "output_type": "error",
     "traceback": [
      "Traceback \u001b[0;36m(most recent call last)\u001b[0m:\n",
      "\u001b[0m  File \u001b[1;32m/opt/homebrew/lib/python3.8/site-packages/IPython/core/interactiveshell.py:3508\u001b[0m in \u001b[1;35mrun_code\u001b[0m\n    exec(code_obj, self.user_global_ns, self.user_ns)\u001b[0m\n",
      "\u001b[0m  Cell \u001b[1;32mIn[6], line 2\u001b[0m\n    from manager.ai_model.runner import AIRunner\u001b[0m\n",
      "\u001b[0;36m  File \u001b[0;32m~/Documents/KCLFirstYear/Simulator-SpecialtyInsurance/manager/__init__.py:1\u001b[0;36m\n\u001b[0;31m    from manager.market_manager import MarketManager\u001b[0;36m\n",
      "\u001b[0;36m  File \u001b[0;32m~/Documents/KCLFirstYear/Simulator-SpecialtyInsurance/manager/market_manager.py:345\u001b[0;36m\u001b[0m\n\u001b[0;31m    starting_broker_risk =\u001b[0m\n\u001b[0m                           ^\u001b[0m\n\u001b[0;31mSyntaxError\u001b[0m\u001b[0;31m:\u001b[0m invalid syntax\n"
     ]
    }
   ],
   "source": [
    "# Run the simulation\n",
    "from manager.ai_model.runner import AIRunner\n",
    "from manager.game_model.runner import GameRunner\n",
    "\n",
    "model = 0\n",
    "if model == 0: \n",
    "    runner = AIRunner(sim_args, manager_args, brokers, syndicates, reinsurancefirms, shareholders, catastrophes, risk_model_configs, with_reinsurance, num_risk_models)\n",
    "elif model == 1:\n",
    "    runner = GameRunner(sim_args, manager_args, brokers, syndicates, reinsurancefirms, shareholders, catastrophes, risk_model_configs, with_reinsurance, num_risk_models)\n",
    "runner.run()"
   ]
  },
  {
   "cell_type": "code",
   "execution_count": null,
   "id": "3e6844e4",
   "metadata": {},
   "outputs": [],
   "source": []
  },
  {
   "cell_type": "code",
   "execution_count": null,
   "id": "5e71b910",
   "metadata": {},
   "outputs": [],
   "source": []
  }
 ],
 "metadata": {
  "kernelspec": {
   "display_name": "Python 3 (ipykernel)",
   "language": "python",
   "name": "python3"
  },
  "language_info": {
   "codemirror_mode": {
    "name": "ipython",
    "version": 3
   },
   "file_extension": ".py",
   "mimetype": "text/x-python",
   "name": "python",
   "nbconvert_exporter": "python",
   "pygments_lexer": "ipython3",
   "version": "3.8.18"
  }
 },
 "nbformat": 4,
 "nbformat_minor": 5
}
