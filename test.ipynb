{
 "cells": [
  {
   "cell_type": "markdown",
   "id": "260a3a15",
   "metadata": {},
   "source": [
    "# Example of using SpecialtyInsurance Simulator\n"
   ]
  },
  {
   "cell_type": "code",
   "execution_count": 1,
   "id": "07123f30",
   "metadata": {},
   "outputs": [],
   "source": [
    "### Set Simulation Parameters\n",
    "import os\n",
    "from logger.arguments import get_arguments\n",
    "\n",
    "# Read arguments from logger.arguments\n",
    "sim_args, manager_args, broker_args, syndicate_args, reinsurancefirm_args, shareholder_args, risk_args = get_arguments()\n",
    "\n",
    "# Reset arguments\n",
    "sim_args[\"max_time\"] = 300   # Simulation time span unit day\n",
    "manager_args[\"lead_top_k\"] = 2   # Number of syndicates competing for the lead quote\n",
    "manager_args[\"follow_top_k\"] = 1   # Number of syndicates following the lead strategy\n",
    "broker_args[\"num_brokers\"] = 1   # Number of brokers in the insurance market\n",
    "syndicate_args[\"num_syndicates\"] = 3   # Number of syndicates in the insurance market\n",
    "syndicate_args[\"lead_line_size\"] = 0.90  # The percentage of risk covered by lead syndicate\n",
    "syndicate_args[\"follow_line_size\"] = 0.10  # The percentage of risk covered by follow syndicate\n",
    "shareholder_args[\"num_shareholders\"] = 1   # Number of shareholders in the insurance market\n",
    "risk_args[\"num_risks\"] = 1  # Number of risk categories\n",
    "risk_args[\"num_categories\"] = 4  # Number of risk categories\n",
    "\n",
    "# No reinsurance mechanism included in this stage\n",
    "with_reinsurance = False   \n",
    "\n",
    "# Load one risk model to all syndicates\n",
    "num_risk_models = 1   "
   ]
  },
  {
   "cell_type": "code",
   "execution_count": 2,
   "id": "ef3ab015",
   "metadata": {},
   "outputs": [],
   "source": [
    "# Generate Catastrophes\n",
    "from environment.risk_generator import RiskGenerator\n",
    "\n",
    "# Create catastrophe list and catastrophe configurations\n",
    "risks, risk_model_configs = RiskGenerator(num_risk_models, sim_args, risk_args).generate_risks()"
   ]
  },
  {
   "cell_type": "code",
   "execution_count": 3,
   "id": "dc5369d3",
   "metadata": {},
   "outputs": [],
   "source": [
    "# Generate Insurance Market\n",
    "from environment.market_generator import MarketGenerator\n",
    "\n",
    "# Create lists of brokers, syndicates, reinsurancefirms, and shareholders\n",
    "brokers, syndicates, reinsurancefirms, shareholders = MarketGenerator(with_reinsurance, \n",
    "                                                                      num_risk_models, \n",
    "                                                                      sim_args, \n",
    "                                                                      broker_args, \n",
    "                                                                      syndicate_args, \n",
    "                                                                      reinsurancefirm_args, \n",
    "                                                                      shareholder_args, \n",
    "                                                                      risk_model_configs).generate_agents()"
   ]
  },
  {
   "cell_type": "code",
   "execution_count": 4,
   "id": "ef67ad30",
   "metadata": {},
   "outputs": [
    {
     "name": "stdout",
     "output_type": "stream",
     "text": [
      "[{'risk_id': 0, 'broker_id': 0, 'risk_start_time': 0, 'risk_end_time': 360, 'risk_factor': None, 'risk_category': None, 'risk_value': None}]\n"
     ]
    }
   ],
   "source": [
    "# Input risk from broker\n",
    "\n",
    "# Risk brought by broker: time to the market and number of risks\n",
    "time = 0\n",
    "num_risk = 1\n",
    "\n",
    "for i in range(len(brokers)):\n",
    "    risks = brokers[str(i)].generate_risks(time, num_risk)\n",
    "    print(risks)"
   ]
  },
  {
   "cell_type": "code",
   "execution_count": null,
   "id": "644cb9eb",
   "metadata": {},
   "outputs": [],
   "source": [
    "# "
   ]
  }
 ],
 "metadata": {
  "kernelspec": {
   "display_name": "Python 3 (ipykernel)",
   "language": "python",
   "name": "python3"
  },
  "language_info": {
   "codemirror_mode": {
    "name": "ipython",
    "version": 3
   },
   "file_extension": ".py",
   "mimetype": "text/x-python",
   "name": "python",
   "nbconvert_exporter": "python",
   "pygments_lexer": "ipython3",
   "version": "3.8.18"
  }
 },
 "nbformat": 4,
 "nbformat_minor": 5
}
